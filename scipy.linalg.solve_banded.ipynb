{
 "cells": [
  {
   "cell_type": "code",
   "execution_count": 3,
   "id": "e79bffbf",
   "metadata": {},
   "outputs": [],
   "source": [
    "from scipy.linalg import solve_banded\n",
    "import numpy as np"
   ]
  },
  {
   "cell_type": "code",
   "execution_count": 4,
   "id": "7203205e",
   "metadata": {},
   "outputs": [],
   "source": [
    "ab = np.array([[0,  0, -1, -1, -1],\n",
    "               [0,  2,  2,  2,  2],\n",
    "               [5,  4,  3,  2,  1],\n",
    "               [1,  1,  1,  1,  0]])"
   ]
  },
  {
   "cell_type": "code",
   "execution_count": 7,
   "id": "35acfa69",
   "metadata": {},
   "outputs": [
    {
     "data": {
      "text/plain": [
       "array([[ 0,  0, -1, -1, -1],\n",
       "       [ 0,  2,  2,  2,  2],\n",
       "       [ 5,  4,  3,  2,  1],\n",
       "       [ 1,  1,  1,  1,  0]])"
      ]
     },
     "execution_count": 7,
     "metadata": {},
     "output_type": "execute_result"
    }
   ],
   "source": [
    "ab"
   ]
  },
  {
   "cell_type": "code",
   "execution_count": 6,
   "id": "a60b020a",
   "metadata": {},
   "outputs": [],
   "source": [
    "b = np.array([0, 1, 2, 2, 3])"
   ]
  },
  {
   "cell_type": "code",
   "execution_count": 10,
   "id": "5c50278f",
   "metadata": {},
   "outputs": [
    {
     "data": {
      "text/plain": [
       "array([0, 1, 2, 2, 3])"
      ]
     },
     "execution_count": 10,
     "metadata": {},
     "output_type": "execute_result"
    }
   ],
   "source": [
    "b"
   ]
  },
  {
   "cell_type": "code",
   "execution_count": 8,
   "id": "8c552c91",
   "metadata": {},
   "outputs": [],
   "source": [
    "x = solve_banded((1, 2), ab, b)"
   ]
  },
  {
   "cell_type": "code",
   "execution_count": 9,
   "id": "02cf0678",
   "metadata": {},
   "outputs": [
    {
     "data": {
      "text/plain": [
       "array([-2.37288136,  3.93220339, -4.        ,  4.3559322 , -1.3559322 ])"
      ]
     },
     "execution_count": 9,
     "metadata": {},
     "output_type": "execute_result"
    }
   ],
   "source": [
    "x"
   ]
  },
  {
   "cell_type": "code",
   "execution_count": null,
   "id": "8b498ac8",
   "metadata": {},
   "outputs": [],
   "source": []
  }
 ],
 "metadata": {
  "kernelspec": {
   "display_name": "Python 3 (ipykernel)",
   "language": "python",
   "name": "python3"
  },
  "language_info": {
   "codemirror_mode": {
    "name": "ipython",
    "version": 3
   },
   "file_extension": ".py",
   "mimetype": "text/x-python",
   "name": "python",
   "nbconvert_exporter": "python",
   "pygments_lexer": "ipython3",
   "version": "3.10.5"
  }
 },
 "nbformat": 4,
 "nbformat_minor": 5
}
